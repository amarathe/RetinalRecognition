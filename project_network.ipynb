{
  "nbformat": 4,
  "nbformat_minor": 0,
  "metadata": {
    "kernelspec": {
      "name": "python3",
      "display_name": "Python 3"
    },
    "language_info": {
      "codemirror_mode": {
        "name": "ipython",
        "version": 3
      },
      "file_extension": ".py",
      "mimetype": "text/x-python",
      "name": "python",
      "nbconvert_exporter": "python",
      "pygments_lexer": "ipython3",
      "version": "3.6.10"
    },
    "colab": {
      "name": "project_network.ipynb",
      "provenance": [],
      "collapsed_sections": [],
      "include_colab_link": true
    },
    "accelerator": "GPU"
  },
  "cells": [
    {
      "cell_type": "markdown",
      "metadata": {
        "id": "view-in-github",
        "colab_type": "text"
      },
      "source": [
        "<a href=\"https://colab.research.google.com/github/amarathe/RetinalRecognition/blob/master/project_network.ipynb\" target=\"_parent\"><img src=\"https://colab.research.google.com/assets/colab-badge.svg\" alt=\"Open In Colab\"/></a>"
      ]
    },
    {
      "cell_type": "markdown",
      "metadata": {
        "id": "PLOdTLE7y9_X",
        "colab_type": "text"
      },
      "source": [
        "# Project: Retinal OCT Images recognition\n",
        "# Sharanjeet Singh, Ashwin Marathe\n",
        "Classify images of retina\n",
        "4 categories: \n",
        "    CNV - Choroidal neovascularization\n",
        "    DME -  Diabetic macular edema \n",
        "    DRUSEN - Multiple drusen\n",
        "    NORMAL - Normal retina\n",
        "\n",
        "84,000 images in dataset\n",
        "    \n",
        "https://www.kaggle.com/paultimothymooney/kermany2018/data#CNV-1016042-2.jpeg"
      ]
    },
    {
      "cell_type": "code",
      "metadata": {
        "id": "5gFuv9iV1ttb",
        "colab_type": "code",
        "colab": {
          "resources": {
            "http://localhost:8080/nbextensions/google.colab/files.js": {
              "data": "Ly8gQ29weXJpZ2h0IDIwMTcgR29vZ2xlIExMQwovLwovLyBMaWNlbnNlZCB1bmRlciB0aGUgQXBhY2hlIExpY2Vuc2UsIFZlcnNpb24gMi4wICh0aGUgIkxpY2Vuc2UiKTsKLy8geW91IG1heSBub3QgdXNlIHRoaXMgZmlsZSBleGNlcHQgaW4gY29tcGxpYW5jZSB3aXRoIHRoZSBMaWNlbnNlLgovLyBZb3UgbWF5IG9idGFpbiBhIGNvcHkgb2YgdGhlIExpY2Vuc2UgYXQKLy8KLy8gICAgICBodHRwOi8vd3d3LmFwYWNoZS5vcmcvbGljZW5zZXMvTElDRU5TRS0yLjAKLy8KLy8gVW5sZXNzIHJlcXVpcmVkIGJ5IGFwcGxpY2FibGUgbGF3IG9yIGFncmVlZCB0byBpbiB3cml0aW5nLCBzb2Z0d2FyZQovLyBkaXN0cmlidXRlZCB1bmRlciB0aGUgTGljZW5zZSBpcyBkaXN0cmlidXRlZCBvbiBhbiAiQVMgSVMiIEJBU0lTLAovLyBXSVRIT1VUIFdBUlJBTlRJRVMgT1IgQ09ORElUSU9OUyBPRiBBTlkgS0lORCwgZWl0aGVyIGV4cHJlc3Mgb3IgaW1wbGllZC4KLy8gU2VlIHRoZSBMaWNlbnNlIGZvciB0aGUgc3BlY2lmaWMgbGFuZ3VhZ2UgZ292ZXJuaW5nIHBlcm1pc3Npb25zIGFuZAovLyBsaW1pdGF0aW9ucyB1bmRlciB0aGUgTGljZW5zZS4KCi8qKgogKiBAZmlsZW92ZXJ2aWV3IEhlbHBlcnMgZm9yIGdvb2dsZS5jb2xhYiBQeXRob24gbW9kdWxlLgogKi8KKGZ1bmN0aW9uKHNjb3BlKSB7CmZ1bmN0aW9uIHNwYW4odGV4dCwgc3R5bGVBdHRyaWJ1dGVzID0ge30pIHsKICBjb25zdCBlbGVtZW50ID0gZG9jdW1lbnQuY3JlYXRlRWxlbWVudCgnc3BhbicpOwogIGVsZW1lbnQudGV4dENvbnRlbnQgPSB0ZXh0OwogIGZvciAoY29uc3Qga2V5IG9mIE9iamVjdC5rZXlzKHN0eWxlQXR0cmlidXRlcykpIHsKICAgIGVsZW1lbnQuc3R5bGVba2V5XSA9IHN0eWxlQXR0cmlidXRlc1trZXldOwogIH0KICByZXR1cm4gZWxlbWVudDsKfQoKLy8gTWF4IG51bWJlciBvZiBieXRlcyB3aGljaCB3aWxsIGJlIHVwbG9hZGVkIGF0IGEgdGltZS4KY29uc3QgTUFYX1BBWUxPQURfU0laRSA9IDEwMCAqIDEwMjQ7Ci8vIE1heCBhbW91bnQgb2YgdGltZSB0byBibG9jayB3YWl0aW5nIGZvciB0aGUgdXNlci4KY29uc3QgRklMRV9DSEFOR0VfVElNRU9VVF9NUyA9IDMwICogMTAwMDsKCmZ1bmN0aW9uIF91cGxvYWRGaWxlcyhpbnB1dElkLCBvdXRwdXRJZCkgewogIGNvbnN0IHN0ZXBzID0gdXBsb2FkRmlsZXNTdGVwKGlucHV0SWQsIG91dHB1dElkKTsKICBjb25zdCBvdXRwdXRFbGVtZW50ID0gZG9jdW1lbnQuZ2V0RWxlbWVudEJ5SWQob3V0cHV0SWQpOwogIC8vIENhY2hlIHN0ZXBzIG9uIHRoZSBvdXRwdXRFbGVtZW50IHRvIG1ha2UgaXQgYXZhaWxhYmxlIGZvciB0aGUgbmV4dCBjYWxsCiAgLy8gdG8gdXBsb2FkRmlsZXNDb250aW51ZSBmcm9tIFB5dGhvbi4KICBvdXRwdXRFbGVtZW50LnN0ZXBzID0gc3RlcHM7CgogIHJldHVybiBfdXBsb2FkRmlsZXNDb250aW51ZShvdXRwdXRJZCk7Cn0KCi8vIFRoaXMgaXMgcm91Z2hseSBhbiBhc3luYyBnZW5lcmF0b3IgKG5vdCBzdXBwb3J0ZWQgaW4gdGhlIGJyb3dzZXIgeWV0KSwKLy8gd2hlcmUgdGhlcmUgYXJlIG11bHRpcGxlIGFzeW5jaHJvbm91cyBzdGVwcyBhbmQgdGhlIFB5dGhvbiBzaWRlIGlzIGdvaW5nCi8vIHRvIHBvbGwgZm9yIGNvbXBsZXRpb24gb2YgZWFjaCBzdGVwLgovLyBUaGlzIHVzZXMgYSBQcm9taXNlIHRvIGJsb2NrIHRoZSBweXRob24gc2lkZSBvbiBjb21wbGV0aW9uIG9mIGVhY2ggc3RlcCwKLy8gdGhlbiBwYXNzZXMgdGhlIHJlc3VsdCBvZiB0aGUgcHJldmlvdXMgc3RlcCBhcyB0aGUgaW5wdXQgdG8gdGhlIG5leHQgc3RlcC4KZnVuY3Rpb24gX3VwbG9hZEZpbGVzQ29udGludWUob3V0cHV0SWQpIHsKICBjb25zdCBvdXRwdXRFbGVtZW50ID0gZG9jdW1lbnQuZ2V0RWxlbWVudEJ5SWQob3V0cHV0SWQpOwogIGNvbnN0IHN0ZXBzID0gb3V0cHV0RWxlbWVudC5zdGVwczsKCiAgY29uc3QgbmV4dCA9IHN0ZXBzLm5leHQob3V0cHV0RWxlbWVudC5sYXN0UHJvbWlzZVZhbHVlKTsKICByZXR1cm4gUHJvbWlzZS5yZXNvbHZlKG5leHQudmFsdWUucHJvbWlzZSkudGhlbigodmFsdWUpID0+IHsKICAgIC8vIENhY2hlIHRoZSBsYXN0IHByb21pc2UgdmFsdWUgdG8gbWFrZSBpdCBhdmFpbGFibGUgdG8gdGhlIG5leHQKICAgIC8vIHN0ZXAgb2YgdGhlIGdlbmVyYXRvci4KICAgIG91dHB1dEVsZW1lbnQubGFzdFByb21pc2VWYWx1ZSA9IHZhbHVlOwogICAgcmV0dXJuIG5leHQudmFsdWUucmVzcG9uc2U7CiAgfSk7Cn0KCi8qKgogKiBHZW5lcmF0b3IgZnVuY3Rpb24gd2hpY2ggaXMgY2FsbGVkIGJldHdlZW4gZWFjaCBhc3luYyBzdGVwIG9mIHRoZSB1cGxvYWQKICogcHJvY2Vzcy4KICogQHBhcmFtIHtzdHJpbmd9IGlucHV0SWQgRWxlbWVudCBJRCBvZiB0aGUgaW5wdXQgZmlsZSBwaWNrZXIgZWxlbWVudC4KICogQHBhcmFtIHtzdHJpbmd9IG91dHB1dElkIEVsZW1lbnQgSUQgb2YgdGhlIG91dHB1dCBkaXNwbGF5LgogKiBAcmV0dXJuIHshSXRlcmFibGU8IU9iamVjdD59IEl0ZXJhYmxlIG9mIG5leHQgc3RlcHMuCiAqLwpmdW5jdGlvbiogdXBsb2FkRmlsZXNTdGVwKGlucHV0SWQsIG91dHB1dElkKSB7CiAgY29uc3QgaW5wdXRFbGVtZW50ID0gZG9jdW1lbnQuZ2V0RWxlbWVudEJ5SWQoaW5wdXRJZCk7CiAgaW5wdXRFbGVtZW50LmRpc2FibGVkID0gZmFsc2U7CgogIGNvbnN0IG91dHB1dEVsZW1lbnQgPSBkb2N1bWVudC5nZXRFbGVtZW50QnlJZChvdXRwdXRJZCk7CiAgb3V0cHV0RWxlbWVudC5pbm5lckhUTUwgPSAnJzsKCiAgY29uc3QgcGlja2VkUHJvbWlzZSA9IG5ldyBQcm9taXNlKChyZXNvbHZlKSA9PiB7CiAgICBpbnB1dEVsZW1lbnQuYWRkRXZlbnRMaXN0ZW5lcignY2hhbmdlJywgKGUpID0+IHsKICAgICAgcmVzb2x2ZShlLnRhcmdldC5maWxlcyk7CiAgICB9KTsKICB9KTsKCiAgY29uc3QgY2FuY2VsID0gZG9jdW1lbnQuY3JlYXRlRWxlbWVudCgnYnV0dG9uJyk7CiAgaW5wdXRFbGVtZW50LnBhcmVudEVsZW1lbnQuYXBwZW5kQ2hpbGQoY2FuY2VsKTsKICBjYW5jZWwudGV4dENvbnRlbnQgPSAnQ2FuY2VsIHVwbG9hZCc7CiAgY29uc3QgY2FuY2VsUHJvbWlzZSA9IG5ldyBQcm9taXNlKChyZXNvbHZlKSA9PiB7CiAgICBjYW5jZWwub25jbGljayA9ICgpID0+IHsKICAgICAgcmVzb2x2ZShudWxsKTsKICAgIH07CiAgfSk7CgogIC8vIENhbmNlbCB1cGxvYWQgaWYgdXNlciBoYXNuJ3QgcGlja2VkIGFueXRoaW5nIGluIHRpbWVvdXQuCiAgY29uc3QgdGltZW91dFByb21pc2UgPSBuZXcgUHJvbWlzZSgocmVzb2x2ZSkgPT4gewogICAgc2V0VGltZW91dCgoKSA9PiB7CiAgICAgIHJlc29sdmUobnVsbCk7CiAgICB9LCBGSUxFX0NIQU5HRV9USU1FT1VUX01TKTsKICB9KTsKCiAgLy8gV2FpdCBmb3IgdGhlIHVzZXIgdG8gcGljayB0aGUgZmlsZXMuCiAgY29uc3QgZmlsZXMgPSB5aWVsZCB7CiAgICBwcm9taXNlOiBQcm9taXNlLnJhY2UoW3BpY2tlZFByb21pc2UsIHRpbWVvdXRQcm9taXNlLCBjYW5jZWxQcm9taXNlXSksCiAgICByZXNwb25zZTogewogICAgICBhY3Rpb246ICdzdGFydGluZycsCiAgICB9CiAgfTsKCiAgaWYgKCFmaWxlcykgewogICAgcmV0dXJuIHsKICAgICAgcmVzcG9uc2U6IHsKICAgICAgICBhY3Rpb246ICdjb21wbGV0ZScsCiAgICAgIH0KICAgIH07CiAgfQoKICBjYW5jZWwucmVtb3ZlKCk7CgogIC8vIERpc2FibGUgdGhlIGlucHV0IGVsZW1lbnQgc2luY2UgZnVydGhlciBwaWNrcyBhcmUgbm90IGFsbG93ZWQuCiAgaW5wdXRFbGVtZW50LmRpc2FibGVkID0gdHJ1ZTsKCiAgZm9yIChjb25zdCBmaWxlIG9mIGZpbGVzKSB7CiAgICBjb25zdCBsaSA9IGRvY3VtZW50LmNyZWF0ZUVsZW1lbnQoJ2xpJyk7CiAgICBsaS5hcHBlbmQoc3BhbihmaWxlLm5hbWUsIHtmb250V2VpZ2h0OiAnYm9sZCd9KSk7CiAgICBsaS5hcHBlbmQoc3BhbigKICAgICAgICBgKCR7ZmlsZS50eXBlIHx8ICduL2EnfSkgLSAke2ZpbGUuc2l6ZX0gYnl0ZXMsIGAgKwogICAgICAgIGBsYXN0IG1vZGlmaWVkOiAkewogICAgICAgICAgICBmaWxlLmxhc3RNb2RpZmllZERhdGUgPyBmaWxlLmxhc3RNb2RpZmllZERhdGUudG9Mb2NhbGVEYXRlU3RyaW5nKCkgOgogICAgICAgICAgICAgICAgICAgICAgICAgICAgICAgICAgICAnbi9hJ30gLSBgKSk7CiAgICBjb25zdCBwZXJjZW50ID0gc3BhbignMCUgZG9uZScpOwogICAgbGkuYXBwZW5kQ2hpbGQocGVyY2VudCk7CgogICAgb3V0cHV0RWxlbWVudC5hcHBlbmRDaGlsZChsaSk7CgogICAgY29uc3QgZmlsZURhdGFQcm9taXNlID0gbmV3IFByb21pc2UoKHJlc29sdmUpID0+IHsKICAgICAgY29uc3QgcmVhZGVyID0gbmV3IEZpbGVSZWFkZXIoKTsKICAgICAgcmVhZGVyLm9ubG9hZCA9IChlKSA9PiB7CiAgICAgICAgcmVzb2x2ZShlLnRhcmdldC5yZXN1bHQpOwogICAgICB9OwogICAgICByZWFkZXIucmVhZEFzQXJyYXlCdWZmZXIoZmlsZSk7CiAgICB9KTsKICAgIC8vIFdhaXQgZm9yIHRoZSBkYXRhIHRvIGJlIHJlYWR5LgogICAgbGV0IGZpbGVEYXRhID0geWllbGQgewogICAgICBwcm9taXNlOiBmaWxlRGF0YVByb21pc2UsCiAgICAgIHJlc3BvbnNlOiB7CiAgICAgICAgYWN0aW9uOiAnY29udGludWUnLAogICAgICB9CiAgICB9OwoKICAgIC8vIFVzZSBhIGNodW5rZWQgc2VuZGluZyB0byBhdm9pZCBtZXNzYWdlIHNpemUgbGltaXRzLiBTZWUgYi82MjExNTY2MC4KICAgIGxldCBwb3NpdGlvbiA9IDA7CiAgICB3aGlsZSAocG9zaXRpb24gPCBmaWxlRGF0YS5ieXRlTGVuZ3RoKSB7CiAgICAgIGNvbnN0IGxlbmd0aCA9IE1hdGgubWluKGZpbGVEYXRhLmJ5dGVMZW5ndGggLSBwb3NpdGlvbiwgTUFYX1BBWUxPQURfU0laRSk7CiAgICAgIGNvbnN0IGNodW5rID0gbmV3IFVpbnQ4QXJyYXkoZmlsZURhdGEsIHBvc2l0aW9uLCBsZW5ndGgpOwogICAgICBwb3NpdGlvbiArPSBsZW5ndGg7CgogICAgICBjb25zdCBiYXNlNjQgPSBidG9hKFN0cmluZy5mcm9tQ2hhckNvZGUuYXBwbHkobnVsbCwgY2h1bmspKTsKICAgICAgeWllbGQgewogICAgICAgIHJlc3BvbnNlOiB7CiAgICAgICAgICBhY3Rpb246ICdhcHBlbmQnLAogICAgICAgICAgZmlsZTogZmlsZS5uYW1lLAogICAgICAgICAgZGF0YTogYmFzZTY0LAogICAgICAgIH0sCiAgICAgIH07CiAgICAgIHBlcmNlbnQudGV4dENvbnRlbnQgPQogICAgICAgICAgYCR7TWF0aC5yb3VuZCgocG9zaXRpb24gLyBmaWxlRGF0YS5ieXRlTGVuZ3RoKSAqIDEwMCl9JSBkb25lYDsKICAgIH0KICB9CgogIC8vIEFsbCBkb25lLgogIHlpZWxkIHsKICAgIHJlc3BvbnNlOiB7CiAgICAgIGFjdGlvbjogJ2NvbXBsZXRlJywKICAgIH0KICB9Owp9CgpzY29wZS5nb29nbGUgPSBzY29wZS5nb29nbGUgfHwge307CnNjb3BlLmdvb2dsZS5jb2xhYiA9IHNjb3BlLmdvb2dsZS5jb2xhYiB8fCB7fTsKc2NvcGUuZ29vZ2xlLmNvbGFiLl9maWxlcyA9IHsKICBfdXBsb2FkRmlsZXMsCiAgX3VwbG9hZEZpbGVzQ29udGludWUsCn07Cn0pKHNlbGYpOwo=",
              "ok": true,
              "headers": [
                [
                  "content-type",
                  "application/javascript"
                ]
              ],
              "status": 200,
              "status_text": ""
            }
          },
          "base_uri": "https://localhost:8080/",
          "height": 122
        },
        "outputId": "e28df4cf-d847-4e65-a4e2-9a5da1a0dbe9"
      },
      "source": [
        "from keras.layers import *\n",
        "from keras.models import Model\n",
        "from keras.optimizers import *\n",
        "from keras.preprocessing.image import ImageDataGenerator\n",
        "from IPython.display import Image\n",
        "import pandas as pd\n",
        "import os.path\n",
        "from os import path\n",
        "\n",
        "BATCHSIZE = 64\n",
        "NSAMPLES = 10000\n",
        "\n",
        "#Instructions for getting dataset from kaggle:\n",
        "# https://medium.com/@saedhussain/google-colaboratory-and-kaggle-datasets-b57a83eb6ef8\n",
        "from google.colab import files\n",
        "!pip install -q kaggle\n",
        "#Upload your kaggle.json API file\n",
        "\n",
        "if not path.exists(\"/root/.kaggle/kaggle.json\"): \n",
        "  uploaded = files.upload()\n",
        "  os.system(\"mv kaggle.json ~/.kaggle/kaggle.json\")\n",
        "#!ls -halt ~/.kaggle\n",
        "  os.system(\"chmod 600 ~/.kaggle/kaggle.json\")\n",
        "!kaggle datasets download -d paultimothymooney/kermany2018"
      ],
      "execution_count": 4,
      "outputs": [
        {
          "output_type": "display_data",
          "data": {
            "text/html": [
              "\n",
              "     <input type=\"file\" id=\"files-89d36b4d-0407-4f43-ac5d-406d9f5f0397\" name=\"files[]\" multiple disabled />\n",
              "     <output id=\"result-89d36b4d-0407-4f43-ac5d-406d9f5f0397\">\n",
              "      Upload widget is only available when the cell has been executed in the\n",
              "      current browser session. Please rerun this cell to enable.\n",
              "      </output>\n",
              "      <script src=\"/nbextensions/google.colab/files.js\"></script> "
            ],
            "text/plain": [
              "<IPython.core.display.HTML object>"
            ]
          },
          "metadata": {
            "tags": []
          }
        },
        {
          "output_type": "stream",
          "text": [
            "Saving kaggle.json to kaggle.json\n",
            "Downloading kermany2018.zip to /content\n",
            "100% 10.8G/10.8G [04:20<00:00, 41.3MB/s]\n",
            "100% 10.8G/10.8G [04:20<00:00, 44.7MB/s]\n"
          ],
          "name": "stdout"
        }
      ]
    },
    {
      "cell_type": "code",
      "metadata": {
        "id": "QhSShKhG4uRD",
        "colab_type": "code",
        "colab": {}
      },
      "source": [
        ""
      ],
      "execution_count": 0,
      "outputs": []
    },
    {
      "cell_type": "code",
      "metadata": {
        "id": "x4ltEwb6y9_a",
        "colab_type": "code",
        "colab": {
          "base_uri": "https://localhost:8080/",
          "height": 68
        },
        "outputId": "bceb69d2-997a-4add-e5e6-ed35374a5383"
      },
      "source": [
        "%matplotlib inline\n",
        "\n",
        "\n",
        "import zipfile\n",
        "if not path.exists(\"kermany2018\"):\n",
        "  with zipfile.ZipFile(\"kermany2018.zip\",\"r\") as zip_ref:\n",
        "    zip_ref.extractall(\"kermany2018\")\n",
        "\n",
        "#!ls \"kermany2018/OCT2017 \"\n",
        "train_datagen = ImageDataGenerator(rescale=1./256, validation_split=0.2)\n",
        "#valid_datagen = ImageDataGenerator(rescale=1./256)\n",
        "test_datagen = ImageDataGenerator(rescale=1./256)\n",
        "\n",
        "# load and iterate training dataset\n",
        "train_generator = train_datagen.flow_from_directory('kermany2018/OCT2017 /train/', class_mode='categorical', \n",
        "                                             target_size=(512,512), batch_size=BATCHSIZE, subset=\"training\")\n",
        "\n",
        "#Only 32 images in validation dataset - too small. Use test train split from train dataset\n",
        "# load and iterate validation dataset\n",
        "#valid_generator = valid_datagen.flow_from_directory('kermany2018/OCT2017 /val/', class_mode='categorical', \n",
        "#                                           target_size=(512,512), batch_size=BATCHSIZE)\n",
        "valid_generator = train_datagen.flow_from_directory('kermany2018/OCT2017 /train/', class_mode='categorical', \n",
        "                                             target_size=(512,512), batch_size=BATCHSIZE, subset=\"validation\")\n",
        "# load and iterate test dataset\n",
        "test_generator = test_datagen.flow_from_directory('kermany2018/OCT2017 /test/', class_mode='categorical', \n",
        "                                           target_size=(512,512), batch_size=BATCHSIZE)\n",
        "\n",
        "#traindf = pd.read_csv('kermany2018.zip')"
      ],
      "execution_count": 5,
      "outputs": [
        {
          "output_type": "stream",
          "text": [
            "Found 66788 images belonging to 4 classes.\n",
            "Found 16696 images belonging to 4 classes.\n",
            "Found 968 images belonging to 4 classes.\n"
          ],
          "name": "stdout"
        }
      ]
    },
    {
      "cell_type": "code",
      "metadata": {
        "id": "vSL42fIxISIa",
        "colab_type": "code",
        "colab": {}
      },
      "source": [
        "#Returns model and model before last activation (for debug)\n",
        "def get_model():\n",
        "    x = x_in = Input((512,512,3), name=\"input\")\n",
        "    x = Conv2D(8, (3,3), padding=\"same\",  name=\"fe0\")(x)\n",
        "    x = Activation(\"relu\", name=\"r0\")(x)\n",
        "    x = MaxPooling2D(2,2,name=\"mp0\")(x)\n",
        "    x = BatchNormalization(name=\"bn1\")(x)\n",
        "    x = Conv2D(16, (3,3), padding=\"same\", name=\"fe1\")(x)\n",
        "    x = Activation(\"relu\", name=\"r1\")(x)\n",
        " #   x = MaxPooling2D(2,2,name=\"mp1\")(x)\n",
        "    x = BatchNormalization(name=\"bn2\")(x)\n",
        "    x = Conv2D(16, (3,3), padding=\"same\", name=\"fe2\")(x)\n",
        "    x = Activation(\"relu\", name=\"r2\")(x)\n",
        "    x = MaxPooling2D(2,2,name=\"mp2\")(x)\n",
        "    x = BatchNormalization(name=\"bn3\")(x)\n",
        "    x = Conv2D(32, (3,3), padding=\"same\", name=\"fe3\")(x)\n",
        "    x = Activation(\"relu\", name=\"r3\")(x)\n",
        "    x = BatchNormalization(name=\"bn4\")(x)\n",
        "    x = Conv2D(32, (3,3), padding=\"same\", name=\"fe4\")(x)\n",
        "    x = Activation(\"relu\", name=\"r4\")(x)\n",
        "    x = MaxPooling2D(2,2,name=\"mp3\")(x)   \n",
        "    x = Dropout(0.5, name=\"d0\")(x)\n",
        "    x = Flatten(name=\"fl\")(x)\n",
        "    #x = Dense(64, name=\"d0\", activation=\"relu\")(x)\n",
        "    x = Dense(4, name=\"d1\")(x)\n",
        "    x = x_int = Activation(\"softmax\", name=\"s1\")(x)\n",
        "    m = Model(inputs=x_in, outputs=x)\n",
        "    m_int = Model(inputs=x_in, outputs=x_int)\n",
        "    m.summary()\n",
        "    return m, m_int\n"
      ],
      "execution_count": 0,
      "outputs": []
    },
    {
      "cell_type": "code",
      "metadata": {
        "id": "Nle43bsmJxdR",
        "colab_type": "code",
        "colab": {
          "base_uri": "https://localhost:8080/",
          "height": 1000
        },
        "outputId": "966a39d3-9463-46cc-e557-c116e049a276"
      },
      "source": [
        "model, model_int = get_model()\n",
        "adam = Adam(lr=0.001)\n",
        "adam = Adam(lr=0.0001)\n",
        "model.compile(loss=\"categorical_crossentropy\", optimizer=adam, metrics=[\"acc\"])\n",
        "\n",
        "result = model.evaluate_generator(test_generator)\n",
        "print (\"Test results: Accuracy\", result[1])\n",
        "print (\"\\t Loss:\", result[0])\n",
        "\n",
        "history = model.fit_generator(\n",
        "    train_generator,\n",
        "    steps_per_epoch=NSAMPLES//BATCHSIZE, # number of times it executes until it declares epoch is over.\n",
        "    epochs=20,\n",
        "    validation_data=valid_generator,\n",
        "    validation_steps=NSAMPLES//(4*BATCHSIZE))"
      ],
      "execution_count": 11,
      "outputs": [
        {
          "output_type": "stream",
          "text": [
            "Model: \"model_4\"\n",
            "_________________________________________________________________\n",
            "Layer (type)                 Output Shape              Param #   \n",
            "=================================================================\n",
            "input (InputLayer)           (None, 512, 512, 3)       0         \n",
            "_________________________________________________________________\n",
            "fe0 (Conv2D)                 (None, 512, 512, 8)       224       \n",
            "_________________________________________________________________\n",
            "r0 (Activation)              (None, 512, 512, 8)       0         \n",
            "_________________________________________________________________\n",
            "mp0 (MaxPooling2D)           (None, 256, 256, 8)       0         \n",
            "_________________________________________________________________\n",
            "bn1 (BatchNormalization)     (None, 256, 256, 8)       32        \n",
            "_________________________________________________________________\n",
            "fe1 (Conv2D)                 (None, 256, 256, 16)      1168      \n",
            "_________________________________________________________________\n",
            "r1 (Activation)              (None, 256, 256, 16)      0         \n",
            "_________________________________________________________________\n",
            "bn2 (BatchNormalization)     (None, 256, 256, 16)      64        \n",
            "_________________________________________________________________\n",
            "fe2 (Conv2D)                 (None, 256, 256, 16)      2320      \n",
            "_________________________________________________________________\n",
            "r2 (Activation)              (None, 256, 256, 16)      0         \n",
            "_________________________________________________________________\n",
            "mp2 (MaxPooling2D)           (None, 128, 128, 16)      0         \n",
            "_________________________________________________________________\n",
            "bn3 (BatchNormalization)     (None, 128, 128, 16)      64        \n",
            "_________________________________________________________________\n",
            "fe3 (Conv2D)                 (None, 128, 128, 32)      4640      \n",
            "_________________________________________________________________\n",
            "r3 (Activation)              (None, 128, 128, 32)      0         \n",
            "_________________________________________________________________\n",
            "bn4 (BatchNormalization)     (None, 128, 128, 32)      128       \n",
            "_________________________________________________________________\n",
            "fe4 (Conv2D)                 (None, 128, 128, 32)      9248      \n",
            "_________________________________________________________________\n",
            "r4 (Activation)              (None, 128, 128, 32)      0         \n",
            "_________________________________________________________________\n",
            "mp3 (MaxPooling2D)           (None, 64, 64, 32)        0         \n",
            "_________________________________________________________________\n",
            "d0 (Dropout)                 (None, 64, 64, 32)        0         \n",
            "_________________________________________________________________\n",
            "fl (Flatten)                 (None, 131072)            0         \n",
            "_________________________________________________________________\n",
            "d1 (Dense)                   (None, 4)                 524292    \n",
            "_________________________________________________________________\n",
            "s1 (Activation)              (None, 4)                 0         \n",
            "=================================================================\n",
            "Total params: 542,180\n",
            "Trainable params: 542,036\n",
            "Non-trainable params: 144\n",
            "_________________________________________________________________\n",
            "Test results: Accuracy 0.246900826446281\n",
            "\t Loss: 1.385282547020715\n",
            "Epoch 1/20\n",
            "156/156 [==============================] - 96s 617ms/step - loss: 2.9139 - acc: 0.4660 - val_loss: 2.6507 - val_acc: 0.5208\n",
            "Epoch 2/20\n",
            "156/156 [==============================] - 95s 610ms/step - loss: 2.6336 - acc: 0.5522 - val_loss: 2.2420 - val_acc: 0.6579\n",
            "Epoch 3/20\n",
            "156/156 [==============================] - 99s 633ms/step - loss: 2.4670 - acc: 0.6287 - val_loss: 2.1840 - val_acc: 0.6579\n",
            "Epoch 4/20\n",
            "156/156 [==============================] - 101s 647ms/step - loss: 2.2583 - acc: 0.6865 - val_loss: 2.1573 - val_acc: 0.6963\n",
            "Epoch 5/20\n",
            "156/156 [==============================] - 103s 659ms/step - loss: 2.1621 - acc: 0.7173 - val_loss: 1.9719 - val_acc: 0.7468\n",
            "Epoch 6/20\n",
            "156/156 [==============================] - 103s 658ms/step - loss: 2.0800 - acc: 0.7323 - val_loss: 2.1754 - val_acc: 0.7268\n",
            "Epoch 7/20\n",
            "156/156 [==============================] - 99s 637ms/step - loss: 2.1059 - acc: 0.7481 - val_loss: 2.3615 - val_acc: 0.7162\n",
            "Epoch 8/20\n",
            "156/156 [==============================] - 95s 607ms/step - loss: 2.0636 - acc: 0.7542 - val_loss: 1.9654 - val_acc: 0.7548\n",
            "Epoch 9/20\n",
            "156/156 [==============================] - 95s 606ms/step - loss: 1.8923 - acc: 0.7847 - val_loss: 2.0421 - val_acc: 0.7496\n",
            "Epoch 10/20\n",
            "156/156 [==============================] - 97s 622ms/step - loss: 2.0507 - acc: 0.7706 - val_loss: 1.9168 - val_acc: 0.7853\n",
            "Epoch 11/20\n",
            "156/156 [==============================] - 99s 636ms/step - loss: 2.0630 - acc: 0.7699 - val_loss: 2.1276 - val_acc: 0.7608\n",
            "Epoch 12/20\n",
            "156/156 [==============================] - 103s 658ms/step - loss: 2.0117 - acc: 0.7781 - val_loss: 2.1544 - val_acc: 0.7400\n",
            "Epoch 13/20\n",
            "156/156 [==============================] - 103s 663ms/step - loss: 1.9574 - acc: 0.7829 - val_loss: 1.8592 - val_acc: 0.7973\n",
            "Epoch 14/20\n",
            "156/156 [==============================] - 98s 631ms/step - loss: 1.9399 - acc: 0.7880 - val_loss: 2.0660 - val_acc: 0.7697\n",
            "Epoch 15/20\n",
            "156/156 [==============================] - 93s 594ms/step - loss: 1.9637 - acc: 0.8017 - val_loss: 2.0090 - val_acc: 0.7800\n",
            "Epoch 16/20\n",
            "156/156 [==============================] - 96s 613ms/step - loss: 1.9278 - acc: 0.8007 - val_loss: 2.1108 - val_acc: 0.7684\n",
            "Epoch 17/20\n",
            "156/156 [==============================] - 97s 622ms/step - loss: 1.9154 - acc: 0.8039 - val_loss: 1.8938 - val_acc: 0.7905\n",
            "Epoch 18/20\n",
            "156/156 [==============================] - 97s 622ms/step - loss: 1.8832 - acc: 0.8059 - val_loss: 1.9054 - val_acc: 0.7965\n",
            "Epoch 19/20\n",
            "156/156 [==============================] - 98s 627ms/step - loss: 1.8876 - acc: 0.8092 - val_loss: 1.9210 - val_acc: 0.7913\n",
            "Epoch 20/20\n",
            "156/156 [==============================] - 97s 623ms/step - loss: 1.9757 - acc: 0.8027 - val_loss: 2.0327 - val_acc: 0.7913\n"
          ],
          "name": "stdout"
        }
      ]
    },
    {
      "cell_type": "code",
      "metadata": {
        "id": "bS2fCNFMUy1C",
        "colab_type": "code",
        "colab": {
          "base_uri": "https://localhost:8080/",
          "height": 51
        },
        "outputId": "3286a765-e587-4bfe-89eb-7982568a0dcd"
      },
      "source": [
        "#for data_batch, labels_batch in train_generator:\n",
        "#  prediction = model.predict(data_batch)\n",
        "#  print (\"Prediction:\", prediction)\n",
        "#  print (\"labels:\", labels_batch)\n",
        "#  break\n",
        "\n",
        "result = model.evaluate_generator(test_generator)\n",
        "print (\"Test results: Accuracy\", result[1])\n",
        "print (\"\\t Loss:\", result[0])\n"
      ],
      "execution_count": 17,
      "outputs": [
        {
          "output_type": "stream",
          "text": [
            "Test results: Accuracy 0.5816115702479339\n",
            "\t Loss: 4.5099803751165215\n"
          ],
          "name": "stdout"
        }
      ]
    },
    {
      "cell_type": "code",
      "metadata": {
        "id": "LQ0m1WOn8oBH",
        "colab_type": "code",
        "colab": {}
      },
      "source": [
        "import matplotlib.pyplot as plt\n",
        "def plothistory(history):\n",
        "  # Plot training & validation accuracy values\n",
        "  plt.plot(history.history['acc'])\n",
        "  plt.plot(history.history['val_acc'])\n",
        "  plt.title('Model accuracy')\n",
        "  plt.ylabel('Accuracy')\n",
        "  plt.xlabel('Epoch')\n",
        "  plt.legend(['Train', 'Val'], loc='upper left')\n",
        "  plt.show()\n",
        "\n",
        "# Plot training & validation loss values\n",
        "  plt.plot(history.history['loss'])\n",
        "  plt.plot(history.history['val_loss'])\n",
        "  plt.title('Model loss')\n",
        "  plt.ylabel('Loss')\n",
        "  plt.xlabel('Epoch')\n",
        "  plt.legend(['Train', 'Val'], loc='upper left')\n",
        "  plt.show()"
      ],
      "execution_count": 0,
      "outputs": []
    },
    {
      "cell_type": "code",
      "metadata": {
        "id": "Uctlqo0P8szr",
        "colab_type": "code",
        "colab": {
          "base_uri": "https://localhost:8080/",
          "height": 573
        },
        "outputId": "0316fd43-0060-43d4-bc06-497b466b7b82"
      },
      "source": [
        "plothistory(history)"
      ],
      "execution_count": 23,
      "outputs": [
        {
          "output_type": "display_data",
          "data": {
            "image/png": "[encoded data removed]",
            "text/plain": [
              "<Figure size 432x288 with 1 Axes>"
            ]
          },
          "metadata": {
            "tags": []
          }
        },
        {
          "output_type": "display_data",
          "data": {
            "image/png": "[encoded data removed]",
            "text/plain": [
              "<Figure size 432x288 with 1 Axes>"
            ]
          },
          "metadata": {
            "tags": []
          }
        }
      ]
    },
    {
      "cell_type": "markdown",
      "metadata": {
        "id": "BcwrSHX4y9_g",
        "colab_type": "text"
      },
      "source": [
        "# Image characteristics"
      ]
    },
    {
      "cell_type": "code",
      "metadata": {
        "id": "lp_Zvtlhy9_h",
        "colab_type": "code",
        "colab": {}
      },
      "source": [
        "\n",
        "from PIL import Image as IMG\n",
        "image = IMG.open(\"/Users/ashwinmarathe/Documents/ELEN521/project/OCT2017/OCT2017 /train/CNV/CNV-1016042-1.jpeg\")\n",
        "#Image details\n",
        "print(\"format:\", image.format)\n",
        "print(\"mode:\", image.mode)\n",
        "print(\"size:\", image.size)"
      ],
      "execution_count": 0,
      "outputs": []
    },
    {
      "cell_type": "code",
      "metadata": {
        "id": "YK7KEC9Xy9_l",
        "colab_type": "code",
        "colab": {}
      },
      "source": [
        "Image(filename=\"/Users/ashwinmarathe/Documents/ELEN521/project/OCT2017/OCT2017 /train/CNV/CNV-1016042-1.jpeg\")\n"
      ],
      "execution_count": 0,
      "outputs": []
    },
    {
      "cell_type": "code",
      "metadata": {
        "id": "g3gx1ilRy9_o",
        "colab_type": "code",
        "colab": {}
      },
      "source": [
        "from os import listdir\n",
        "from matplotlib import image\n",
        "from scipy.special import comb\n",
        "import matplotlib.pyplot as plt\n",
        "import tensorflow as tf\n",
        "import numpy as np\n",
        "import cv2\n",
        "from sklearn.decomposition import PCA\n",
        "from sklearn.manifold import TSNE\n",
        "from mpl_toolkits.mplot3d import Axes3D\n",
        "import seaborn as sns\n",
        "import time\n",
        "import pandas as pd\n",
        "\n",
        "#Load 100 images\n",
        "def loadFromDir(location, x, y, yval, n=100):\n",
        "    for filename in listdir(location)[:100]:\n",
        "        img_data = image.imread(location + filename)\n",
        "        #Make this uniform size\n",
        "        img_data = cv2.resize(img_data, dsize=(496, 512), interpolation=cv2.INTER_CUBIC)\n",
        "        x.append(img_data)\n",
        "        y.append(yval)\n",
        "        \n",
        "    \n",
        "x_train = []\n",
        "y_train = []\n",
        "location = \"/Users/ashwinmarathe/Documents/ELEN521/project/OCT2017/OCT2017 /train/CNV/\"\n",
        "loadFromDir(location, x_train, y_train, 1)\n",
        "location = \"/Users/ashwinmarathe/Documents/ELEN521/project/OCT2017/OCT2017 /train/DME/\"\n",
        "loadFromDir(location, x_train, y_train, 2)\n",
        "location = \"/Users/ashwinmarathe/Documents/ELEN521/project/OCT2017/OCT2017 /train/DRUSEN/\"\n",
        "loadFromDir(location, x_train, y_train, 3)\n",
        "location = \"/Users/ashwinmarathe/Documents/ELEN521/project/OCT2017/OCT2017 /train/NORMAL/\"\n",
        "loadFromDir(location, x_train, y_train, 4)\n",
        "\n",
        "print (\"x_train[0] dim:\", x_train[0].shape)\n",
        "print (\"x_train[1] dim:\", x_train[1].shape)\n",
        "print (\"x_train[2] dim:\", x_train[2].shape)\n",
        "print (\"x_train[3] dim:\", x_train[3].shape)\n",
        "\n",
        "x_train = np.vstack(np.expand_dims(x_train, axis=0))\n",
        "y_train = np.vstack(np.array(y_train))\n",
        "print (\"x_train shape:\", x_train.shape)\n",
        "print (\"y_train shape:\", y_train.shape)\n",
        "\n",
        "    "
      ],
      "execution_count": 0,
      "outputs": []
    },
    {
      "cell_type": "code",
      "metadata": {
        "id": "2Kx6p3Edy9_s",
        "colab_type": "code",
        "colab": {}
      },
      "source": [
        "indexes = x_train.shape[0]\n",
        "print (\"x_train shape\", x_train.shape)\n",
        "indexes = np.random.permutation(indexes)\n",
        "indexes\n",
        "\n",
        "x_train = x_train[indexes]\n",
        "y_train = y_train[indexes]\n",
        "\n",
        "plt.gray()\n",
        "fig = plt.figure( figsize=(16,14) )\n",
        "for i in range(0,9):\n",
        "    x = x_train[i]\n",
        "    y = y_train[i]\n",
        "    ax = fig.add_subplot(3,3,i+1, title=\"Disease: {}\".format(str(y)))\n",
        "    ax.matshow(x)\n",
        "plt.show()"
      ],
      "execution_count": 0,
      "outputs": []
    },
    {
      "cell_type": "code",
      "metadata": {
        "id": "1xOecQrEy9_w",
        "colab_type": "code",
        "colab": {}
      },
      "source": [
        "print (\"x_train.shape\", x_train[0].shape)\n",
        "print (\"x_train:\", x_train)\n",
        "x_train_flatten = x_train.reshape(x_train.shape[0], np.prod(x_train.shape[1:]))\n",
        "y_train_flatten = y_train.reshape(y_train.shape[0])\n",
        "#x_train_flatten = x_train_flatten[0:1000]\n",
        "#y_train_flatten = y_train_flatten[0:1000]\n",
        "pca = PCA(n_components=3)\n",
        "pca_result = pca.fit_transform(x_train_flatten)"
      ],
      "execution_count": 0,
      "outputs": []
    },
    {
      "cell_type": "code",
      "metadata": {
        "id": "crUroIXjy9_0",
        "colab_type": "code",
        "colab": {}
      },
      "source": [
        "ax = plt.figure(figsize=(16,10)).gca(projection='3d')\n",
        "ax.scatter(\n",
        "    xs=pca_result[:,0], \n",
        "    ys=pca_result[:,1], \n",
        "    zs=pca_result[:,2], \n",
        "    c=y_train_flatten, \n",
        "    cmap='tab10'\n",
        ")\n",
        "ax.set_xlabel('pca-one')\n",
        "ax.set_ylabel('pca-two')\n",
        "ax.set_zlabel('pca-three')\n",
        "plt.show()\n"
      ],
      "execution_count": 0,
      "outputs": []
    },
    {
      "cell_type": "code",
      "metadata": {
        "id": "kRiL_CQvy9_4",
        "colab_type": "code",
        "colab": {}
      },
      "source": [
        "# tSNE is very expensive to compute. Let's use only 400 samples\n",
        "x_train_flatten = x_train_flatten[0:400]\n",
        "y_train_flatten = y_train_flatten[0:400]\n",
        "time_start = time.time()\n",
        "tsne = TSNE(n_components=2, verbose=1, perplexity=40, n_iter=300)\n",
        "tsne_results = tsne.fit_transform(x_train_flatten)\n",
        "print('t-SNE done! Time elapsed: {} seconds'.format(time.time()-time_start))"
      ],
      "execution_count": 0,
      "outputs": []
    },
    {
      "cell_type": "code",
      "metadata": {
        "scrolled": true,
        "id": "GwkuZOMay9_8",
        "colab_type": "code",
        "colab": {}
      },
      "source": [
        "data = {\"x{}\".format(i): x_train_flatten[:, i] for i in range(x_train_flatten.shape[1])}\n",
        "data[\"y\"] = y_train_flatten\n",
        "df = pd.DataFrame(data)\n",
        "df"
      ],
      "execution_count": 0,
      "outputs": []
    },
    {
      "cell_type": "code",
      "metadata": {
        "id": "DBq_6pxdy-AB",
        "colab_type": "code",
        "colab": {}
      },
      "source": [
        "plt.figure(figsize=(16,10))\n",
        "sns.scatterplot(\n",
        "    x=tsne_results[:,0], y=tsne_results[:,1],\n",
        "    hue=\"y\",\n",
        "    palette=sns.color_palette(\"hls\", 4),\n",
        "    data=df,\n",
        "    legend=\"full\",\n",
        "    alpha=0.3\n",
        ")"
      ],
      "execution_count": 0,
      "outputs": []
    },
    {
      "cell_type": "code",
      "metadata": {
        "id": "afGcgx4Dy-AE",
        "colab_type": "code",
        "colab": {}
      },
      "source": [
        "pca_50 = PCA(n_components=50)\n",
        "pca_result_50 = pca_50.fit_transform(x_train_flatten)\n",
        "print('Cumulative explained variation for 50 principal components: {}'.format(np.sum(pca_50.explained_variance_ratio_)))"
      ],
      "execution_count": 0,
      "outputs": []
    },
    {
      "cell_type": "code",
      "metadata": {
        "id": "w-P2PmFfy-AI",
        "colab_type": "code",
        "colab": {}
      },
      "source": [
        "tsne = TSNE(n_components=2, verbose=1, perplexity=40, n_iter=300)\n",
        "tsne_results = tsne.fit_transform(pca_result_50)"
      ],
      "execution_count": 0,
      "outputs": []
    },
    {
      "cell_type": "code",
      "metadata": {
        "id": "khkrNb4wy-AL",
        "colab_type": "code",
        "colab": {}
      },
      "source": [
        "plt.figure(figsize=(16,10))\n",
        "sns.scatterplot(\n",
        "    x=tsne_results[:,0], y=tsne_results[:,1],\n",
        "    hue=\"y\",\n",
        "    palette=sns.color_palette(\"hls\", 4),\n",
        "    data=df,\n",
        "    legend=\"full\",\n",
        "    alpha=0.3\n",
        ")"
      ],
      "execution_count": 0,
      "outputs": []
    },
    {
      "cell_type": "code",
      "metadata": {
        "id": "8BNh7S7My-AO",
        "colab_type": "code",
        "colab": {}
      },
      "source": [
        ""
      ],
      "execution_count": 0,
      "outputs": []
    }
  ]
}